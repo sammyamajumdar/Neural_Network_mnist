{
  "nbformat": 4,
  "nbformat_minor": 0,
  "metadata": {
    "colab": {
      "name": "IMDB_Model.ipynb",
      "provenance": []
    },
    "kernelspec": {
      "name": "python3",
      "display_name": "Python 3"
    },
    "accelerator": "TPU"
  },
  "cells": [
    {
      "cell_type": "code",
      "metadata": {
        "id": "PAw6gqV9cklC",
        "colab_type": "code",
        "colab": {}
      },
      "source": [
        "import keras\n",
        "from keras import models\n",
        "from keras import layers\n",
        "from keras.datasets import imdb\n",
        "import numpy as np\n",
        "import matplotlib.pyplot as plt"
      ],
      "execution_count": 42,
      "outputs": []
    },
    {
      "cell_type": "code",
      "metadata": {
        "id": "5l0hWxwSc3_c",
        "colab_type": "code",
        "colab": {
          "base_uri": "https://localhost:8080/",
          "height": 51
        },
        "outputId": "0664c82f-d085-449a-eadc-eab6e98de4af"
      },
      "source": [
        "(x_train, y_train), (x_test, y_test) = imdb.load_data(num_words = 10000)\n",
        "print(f\"number of training examples : {x_train.shape[0]}\")\n",
        "print(f\"number of testing examples : {x_test.shape[0]}\")"
      ],
      "execution_count": 43,
      "outputs": [
        {
          "output_type": "stream",
          "text": [
            "number of training examples : 25000\n",
            "number of testing examples : 25000\n"
          ],
          "name": "stdout"
        }
      ]
    },
    {
      "cell_type": "code",
      "metadata": {
        "id": "FniCsp6IdF0X",
        "colab_type": "code",
        "colab": {}
      },
      "source": [
        "# Encoding the integer sequences in a binary matrix\n",
        "def vectorizeSequences(sequences, dimensions = 10000):\n",
        "    res = np.zeros((len(sequences), dimensions))\n",
        "    for i, j in enumerate(sequences):\n",
        "        res[i, j] = 1.    \n",
        "    return res \n",
        "x_train = vectorizeSequences(x_train)\n",
        "x_test = vectorizeSequences(x_test)\n",
        "y_train = np.asarray(y_train).astype(\"float32\")\n",
        "y_test = np.asarray(y_test).astype(\"float32\")"
      ],
      "execution_count": 44,
      "outputs": []
    },
    {
      "cell_type": "code",
      "metadata": {
        "id": "rChcqRHYfrgV",
        "colab_type": "code",
        "colab": {}
      },
      "source": [
        "model = models.Sequential()\n",
        "model.add(layers.Dense(16, activation = \"relu\", input_shape = (10000,)))\n",
        "model.add(layers.Dense(16, activation = \"relu\"))\n",
        "model.add(layers.Dense(16, activation = \"relu\"))\n",
        "model.add(layers.Dense(1, activation = \"sigmoid\"))\n",
        "model.compile(optimizer = \"rmsprop\", loss = \"binary_crossentropy\", metrics = [\"accuracy\"])"
      ],
      "execution_count": 67,
      "outputs": []
    },
    {
      "cell_type": "code",
      "metadata": {
        "id": "qv--2W1fgZYB",
        "colab_type": "code",
        "colab": {}
      },
      "source": [
        "# Separating Cross Validation Set and Training Set\n",
        "x_val = x_train[:10000]\n",
        "partial_x_train = x_train[10000:]\n",
        "y_val = y_train[:10000]\n",
        "partial_y_train = y_train[10000:]\n",
        "model.compile(optimizer = \"rmsprop\", loss = \"binary_crossentropy\", metrics = [\"acc\"])"
      ],
      "execution_count": 68,
      "outputs": []
    },
    {
      "cell_type": "code",
      "metadata": {
        "id": "lL9boq7Mh4Ci",
        "colab_type": "code",
        "colab": {
          "base_uri": "https://localhost:8080/",
          "height": 170
        },
        "outputId": "64a13b4a-1d63-45fe-da45-77bcb084cd70"
      },
      "source": [
        "history = model.fit(partial_x_train, partial_y_train, epochs = 4, batch_size=512, validation_data = (x_val, y_val))"
      ],
      "execution_count": 69,
      "outputs": [
        {
          "output_type": "stream",
          "text": [
            "Train on 15000 samples, validate on 10000 samples\n",
            "Epoch 1/4\n",
            "15000/15000 [==============================] - 2s 117us/step - loss: 0.5185 - acc: 0.7700 - val_loss: 0.3898 - val_acc: 0.8519\n",
            "Epoch 2/4\n",
            "15000/15000 [==============================] - 2s 138us/step - loss: 0.2952 - acc: 0.9025 - val_loss: 0.3012 - val_acc: 0.8846\n",
            "Epoch 3/4\n",
            "15000/15000 [==============================] - 2s 140us/step - loss: 0.2094 - acc: 0.9293 - val_loss: 0.2810 - val_acc: 0.8889\n",
            "Epoch 4/4\n",
            "15000/15000 [==============================] - 2s 129us/step - loss: 0.1586 - acc: 0.9478 - val_loss: 0.2820 - val_acc: 0.8872\n"
          ],
          "name": "stdout"
        }
      ]
    },
    {
      "cell_type": "code",
      "metadata": {
        "id": "1sOn2fSCii7w",
        "colab_type": "code",
        "colab": {
          "base_uri": "https://localhost:8080/",
          "height": 295
        },
        "outputId": "e1835447-2290-4f4c-beae-3dfbe60b25e3"
      },
      "source": [
        "history_dict = history.history\n",
        "loss_values = history_dict[\"loss\"]\n",
        "val_loss = history_dict[\"val_loss\"]\n",
        "epochs = range(1,5)\n",
        "\n",
        "plt.plot(epochs, loss_values, \"r\", label = \"training loss\")\n",
        "plt.plot(epochs, val_loss, \"b\", label = \"validation loss\")\n",
        "plt.title(\"Training v Validation Loss\")\n",
        "plt.xlabel(\"epochs\")\n",
        "plt.ylabel(\"Loss\")\n",
        "plt.legend()\n",
        "plt.show()"
      ],
      "execution_count": 70,
      "outputs": [
        {
          "output_type": "display_data",
          "data": {
            "image/png": "[encoded data removed]",
            "text/plain": [
              "<Figure size 432x288 with 1 Axes>"
            ]
          },
          "metadata": {
            "tags": [],
            "needs_background": "light"
          }
        }
      ]
    },
    {
      "cell_type": "code",
      "metadata": {
        "colab_type": "code",
        "id": "Qgk3Uv9GkKVx",
        "colab": {
          "base_uri": "https://localhost:8080/",
          "height": 295
        },
        "outputId": "550574d3-e677-4a9f-c60d-5d526ee70ac3"
      },
      "source": [
        "history_dict = history.history\n",
        "loss_acc = history_dict[\"acc\"]\n",
        "val_acc = history_dict[\"val_acc\"]\n",
        "epochs = range(1,5)\n",
        "\n",
        "plt.plot(epochs, loss_acc, \"r\", label = \"training accuracy\")\n",
        "plt.plot(epochs, val_acc, \"b\", label = \"validation accuracy\")\n",
        "plt.title(\"Training v Validation Accuracy\")\n",
        "plt.xlabel(\"Epochs\")\n",
        "plt.ylabel(\"Accuracy\")\n",
        "plt.legend()\n",
        "plt.show()"
      ],
      "execution_count": 73,
      "outputs": [
        {
          "output_type": "display_data",
          "data": {
            "image/png": "[encoded data removed]",
            "text/plain": [
              "<Figure size 432x288 with 1 Axes>"
            ]
          },
          "metadata": {
            "tags": [],
            "needs_background": "light"
          }
        }
      ]
    },
    {
      "cell_type": "code",
      "metadata": {
        "id": "TEdNWmE4kUXA",
        "colab_type": "code",
        "colab": {
          "base_uri": "https://localhost:8080/",
          "height": 51
        },
        "outputId": "87add077-7f36-4099-e323-ec7fcd47473c"
      },
      "source": [
        "test_loss, model_accuracy = model.evaluate(x_test, y_test)\n",
        "print(f\"Model Accuracy is {round(model_accuracy*100,2)}%\")"
      ],
      "execution_count": 72,
      "outputs": [
        {
          "output_type": "stream",
          "text": [
            "25000/25000 [==============================] - 2s 89us/step\n",
            "Model Accuracy is 88.02%\n"
          ],
          "name": "stdout"
        }
      ]
    },
    {
      "cell_type": "markdown",
      "metadata": {
        "id": "iqNpsuzUl6Rz",
        "colab_type": "text"
      },
      "source": [
        "# Author : Sammya Majumdar"
      ]
    }
  ]
}