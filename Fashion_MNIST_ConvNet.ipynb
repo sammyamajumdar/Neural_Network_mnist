{
  "nbformat": 4,
  "nbformat_minor": 0,
  "metadata": {
    "colab": {
      "name": "Fashion_MNIST_ConvNet.ipynb",
      "provenance": []
    },
    "kernelspec": {
      "name": "python3",
      "display_name": "Python 3"
    },
    "accelerator": "GPU"
  },
  "cells": [
    {
      "cell_type": "code",
      "metadata": {
        "id": "luwGkZZD-8h1",
        "colab_type": "code",
        "colab": {
          "base_uri": "https://localhost:8080/",
          "height": 544
        },
        "outputId": "4de0c5c9-77ff-4c57-c7bd-d4b19caa62c3"
      },
      "source": [
        "import tensorflow as tf\n",
        "from tensorflow import keras\n",
        "from keras.datasets import fashion_mnist\n",
        "import matplotlib.pyplot as plt\n",
        "\n",
        "# Load the data\n",
        "(x_train,y_train), (x_test,y_test) = fashion_mnist.load_data()\n",
        "# Reshape the data into a 4D tensor\n",
        "x_train = x_train.reshape(60000,28,28,1) \n",
        "x_train = x_train / 255.0\n",
        "x_test = x_test.reshape(10000,28,28,1) \n",
        "x_test = x_test / 255.0\n",
        "\n",
        "# Implementing Callback\n",
        "class myCallback(tf.keras.callbacks.Callback):\n",
        "    def on_epoch_end(self, epoch, logs = {}):\n",
        "        if (logs.get(\"loss\")<0.02):\n",
        "            print(\"\\nStopping training because accuracy has reached 90%\")\n",
        "            self.model.stop_training = True\n",
        "callbacks = myCallback()\n",
        "\n",
        "# Create the Neural Network model\n",
        "network = tf.keras.models.Sequential([\n",
        "    tf.keras.layers.Conv2D(32, (3,3), activation = \"relu\", input_shape = (28,28,1)),\n",
        "    tf.keras.layers.MaxPooling2D(2,2),\n",
        "    tf.keras.layers.Conv2D(32, (3,3), activation = \"relu\"),\n",
        "    tf.keras.layers.MaxPooling2D(2,2),\n",
        "    tf.keras.layers.Flatten(),\n",
        "    tf.keras.layers.Dense(128, activation = \"relu\"),\n",
        "    tf.keras.layers.Dense(10, activation = \"softmax\")\n",
        "])\n",
        "\n",
        "# Compile the model\n",
        "network.compile(optimizer = \"adam\", loss = \"sparse_categorical_crossentropy\", metrics = [\"accuracy\"])\n",
        "# Train the model\n",
        "history = network.fit(x_train, y_train, epochs = 10, callbacks = [callbacks])\n",
        "# Test the model\n",
        "test_loss, test_accuracy = network.evaluate(x_test, y_test)\n",
        "# Compare metrics\n",
        "print(f\"Test Accuracy is : {test_accuracy}\")"
      ],
      "execution_count": 1,
      "outputs": [
        {
          "output_type": "stream",
          "text": [
            "Using TensorFlow backend.\n"
          ],
          "name": "stderr"
        },
        {
          "output_type": "stream",
          "text": [
            "Downloading data from http://fashion-mnist.s3-website.eu-central-1.amazonaws.com/train-labels-idx1-ubyte.gz\n",
            "32768/29515 [=================================] - 0s 4us/step\n",
            "Downloading data from http://fashion-mnist.s3-website.eu-central-1.amazonaws.com/train-images-idx3-ubyte.gz\n",
            "26427392/26421880 [==============================] - 2s 0us/step\n",
            "Downloading data from http://fashion-mnist.s3-website.eu-central-1.amazonaws.com/t10k-labels-idx1-ubyte.gz\n",
            "8192/5148 [===============================================] - 0s 0us/step\n",
            "Downloading data from http://fashion-mnist.s3-website.eu-central-1.amazonaws.com/t10k-images-idx3-ubyte.gz\n",
            "4423680/4422102 [==============================] - 1s 0us/step\n",
            "Epoch 1/10\n",
            "1875/1875 [==============================] - 4s 2ms/step - loss: 0.4731 - accuracy: 0.8279\n",
            "Epoch 2/10\n",
            "1875/1875 [==============================] - 4s 2ms/step - loss: 0.3192 - accuracy: 0.8827\n",
            "Epoch 3/10\n",
            "1875/1875 [==============================] - 4s 2ms/step - loss: 0.2744 - accuracy: 0.8991\n",
            "Epoch 4/10\n",
            "1875/1875 [==============================] - 4s 2ms/step - loss: 0.2427 - accuracy: 0.9101\n",
            "Epoch 5/10\n",
            "1875/1875 [==============================] - 4s 2ms/step - loss: 0.2227 - accuracy: 0.9173\n",
            "Epoch 6/10\n",
            "1875/1875 [==============================] - 4s 2ms/step - loss: 0.1986 - accuracy: 0.9263\n",
            "Epoch 7/10\n",
            "1875/1875 [==============================] - 4s 2ms/step - loss: 0.1817 - accuracy: 0.9312\n",
            "Epoch 8/10\n",
            "1875/1875 [==============================] - 4s 2ms/step - loss: 0.1662 - accuracy: 0.9373\n",
            "Epoch 9/10\n",
            "1875/1875 [==============================] - 4s 2ms/step - loss: 0.1513 - accuracy: 0.9427\n",
            "Epoch 10/10\n",
            "1875/1875 [==============================] - 4s 2ms/step - loss: 0.1393 - accuracy: 0.9481\n",
            "313/313 [==============================] - 1s 2ms/step - loss: 0.2614 - accuracy: 0.9103\n",
            "Test Accuracy is : 0.9103000164031982\n"
          ],
          "name": "stdout"
        }
      ]
    },
    {
      "cell_type": "code",
      "metadata": {
        "id": "8HMiZGia_Flf",
        "colab_type": "code",
        "colab": {
          "base_uri": "https://localhost:8080/",
          "height": 295
        },
        "outputId": "5025ee69-e0c4-439e-cf4e-9dc9b9f8788e"
      },
      "source": [
        "# Plot the learning curve\n",
        "history_dict = history.history\n",
        "Training_Loss = history_dict[\"loss\"]\n",
        "epochs = range(1,11)\n",
        "plt.plot(epochs, Training_Loss, \"r\")\n",
        "plt.xlabel(\"Epochs\")\n",
        "plt.ylabel(\"Loss\")\n",
        "plt.title(\"Learning Curve\")\n",
        "plt.show()"
      ],
      "execution_count": 3,
      "outputs": [
        {
          "output_type": "display_data",
          "data": {
            "image/png": "[encoded data removed]",
            "text/plain": [
              "<Figure size 432x288 with 1 Axes>"
            ]
          },
          "metadata": {
            "tags": [],
            "needs_background": "light"
          }
        }
      ]
    }
  ]
}